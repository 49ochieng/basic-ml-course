{
  "nbformat": 4,
  "nbformat_minor": 0,
  "metadata": {
    "colab": {
      "provenance": [],
      "collapsed_sections": [],
      "authorship_tag": "ABX9TyP2efbJ5DTfbevrHUUT1Se2",
      "include_colab_link": true
    },
    "kernelspec": {
      "name": "python3",
      "display_name": "Python 3"
    },
    "language_info": {
      "name": "python"
    }
  },
  "cells": [
    {
      "cell_type": "markdown",
      "metadata": {
        "id": "view-in-github",
        "colab_type": "text"
      },
      "source": [
        "<a href=\"https://colab.research.google.com/github/49ochieng/basic-ml-course/blob/master/Edgar_Ochieng_solution_for_lesson_3.ipynb\" target=\"_parent\"><img src=\"https://colab.research.google.com/assets/colab-badge.svg\" alt=\"Open In Colab\"/></a>"
      ]
    },
    {
      "cell_type": "markdown",
      "source": [
        "# #Homework 3: Logistics Regression\n",
        "\n",
        "**Implement everywhere that has ...**"
      ],
      "metadata": {
        "id": "LEeHXaIihLTF"
      }
    },
    {
      "cell_type": "code",
      "source": [
        "import numpy as np\n",
        "import pandas as pd\n",
        "import sklearn.datasets"
      ],
      "metadata": {
        "id": "H9v_RnSNhxJX"
      },
      "execution_count": null,
      "outputs": []
    },
    {
      "cell_type": "markdown",
      "source": [
        "#**Load dataset**"
      ],
      "metadata": {
        "id": "ZTW4xYVVifda"
      }
    },
    {
      "cell_type": "code",
      "source": [
        "import sklearn\n",
        "from sklearn.datasets import load_iris\n",
        "data = load_iris()\n",
        "X, Y = data.data, data.target"
      ],
      "metadata": {
        "id": "ep-g_fZkissW"
      },
      "execution_count": null,
      "outputs": []
    },
    {
      "cell_type": "markdown",
      "source": [
        "# Task 1: (1pt)\n",
        "\n",
        "Choose only the last 2 classes (class 1 and 2) from the dataset. You may refer to the code from the lecture video.\n",
        "\n",
        "Some numpy resource that might be useful\n",
        "\n",
        "Indexing in numpy: https://aman.ai/primers/numpy/#indexing\n",
        "Boolean mask: https://aman.ai/primers/numpy/#boolean-array-indexing **bold text**"
      ],
      "metadata": {
        "id": "cPqvs_PDi0KG"
      }
    },
    {
      "cell_type": "code",
      "source": [
        "x =X[50:150]\n",
        "Y = Y[50:150]\n",
        "Y -= 1\n",
        "\n",
        "assert X.shape == (100, 4) "
      ],
      "metadata": {
        "id": "-h6jeXCxi7fa"
      },
      "execution_count": null,
      "outputs": []
    },
    {
      "cell_type": "markdown",
      "source": [
        "# Task 2: Data normalization (1pt)\n",
        "\n",
        "Implement z-score normalization.\n",
        "\n",
        "Remember: normalization is done per feature, not all at once. So you need to calculate the mean and standard deviation for each feature seperately. **bold text**"
      ],
      "metadata": {
        "id": "Eukqrf6ujvC0"
      }
    },
    {
      "cell_type": "code",
      "source": [
        "x_means = X.mean()\n",
        "x_stdevs = X.std()\n",
        "X = (X - x_means) / x_stdevs"
      ],
      "metadata": {
        "id": "NyLPYkBQj6GZ"
      },
      "execution_count": null,
      "outputs": []
    },
    {
      "cell_type": "markdown",
      "source": [
        "# Task 3: Construct the design matrix (1pt)\n",
        "\n",
        "We need to add an extra column of 1 that represents the bias/intercept term\n",
        "\n"
      ],
      "metadata": {
        "id": "Ll38hip-kLkp"
      }
    },
    {
      "cell_type": "code",
      "source": [
        "n,m = X.shape \n",
        "add_ones= np.ones((n,1))\n",
        "X = np.hstack((add_ones,X))\n",
        "\n",
        "\n",
        "assert X.shape == (100, 5)"
      ],
      "metadata": {
        "id": "1nSRcEi0kWw7"
      },
      "execution_count": null,
      "outputs": []
    },
    {
      "cell_type": "markdown",
      "source": [
        "# Task 4: Model initialization (1pt)\n",
        "\n",
        "Create parameters here. Initialize with zeros. Output should be a numpy array\n",
        "\n",
        "In case you forgot: ."
      ],
      "metadata": {
        "id": "_8bDXBUKkc2s"
      }
    },
    {
      "cell_type": "code",
      "source": [
        "weight = np.zeros((5,))\n",
        "assert weight.shape == (5, )"
      ],
      "metadata": {
        "id": "URVqSVlFkhrD"
      },
      "execution_count": null,
      "outputs": []
    },
    {
      "cell_type": "markdown",
      "source": [
        "\n",
        "# Task 5: Sigmoid function (1pt)\n",
        "\n",
        "Implement the sigmoid function. You should use np.exp for this"
      ],
      "metadata": {
        "id": "CfaHzN-6kk6k"
      }
    },
    {
      "cell_type": "code",
      "source": [
        "def sigmoid(z):\n",
        "  \n",
        "    return 1.0 / (1.0 + np.exp(-z))"
      ],
      "metadata": {
        "id": "-8SGtDV5ksG5"
      },
      "execution_count": null,
      "outputs": []
    },
    {
      "cell_type": "markdown",
      "source": [
        "# Task 6: Define evaluation metrics (2pt)\n",
        "\n",
        "Implement the accuracy score"
      ],
      "metadata": {
        "id": "RukEss9Zk0Gd"
      }
    },
    {
      "cell_type": "code",
      "source": [
        "from sklearn.linear_model import LogisticRegression\n",
        "def accuracy(X, y, weight):\n",
        "    '''\n",
        "    Evaluate the model, represented by `weight`, with data (X, Y).\n",
        "    \n",
        "    Input:\n",
        "        X:      data features\n",
        "        Y:      data labels\n",
        "        weight: model weights\n",
        "    Ouput:\n",
        "        Model accuracy on input data.\n",
        "        \n",
        "    '''\n",
        " \n",
        "   \n",
        "    datapoints = len(y)\n",
        "    y_predict = sigmoid(X@weight)\n",
        "\n",
        "    y_predict = (y_predict > 2).astype(int)\n",
        "    y_correct = 0\n",
        "    \n",
        "    for y_value in range(len(y_predict),len(y)):\n",
        "      if y_predict[y_value] == y[y_value]:\n",
        "           y_correct += 1 \n",
        "\n",
        "    accuracy_score = y_correct / datapoints \n",
        "    return accuracy_score\n"
      ],
      "metadata": {
        "id": "NKvlP-8mk4Dm"
      },
      "execution_count": null,
      "outputs": []
    },
    {
      "cell_type": "markdown",
      "source": [
        "# Hyperparameters"
      ],
      "metadata": {
        "id": "i5_uTCZflL6b"
      }
    },
    {
      "cell_type": "code",
      "source": [
        "#Don't change these\n",
        "# learning rate\n",
        "alpha = 1e-2\n",
        "# epochs\n",
        "epoch = 10000"
      ],
      "metadata": {
        "id": "mwosXo6zlfQ4"
      },
      "execution_count": null,
      "outputs": []
    },
    {
      "cell_type": "markdown",
      "source": [
        "# Task 7: Train the model. (3pt)\n",
        "Implement the model training loop:\n",
        "\n",
        "Calculate the model prediction\n",
        "\n",
        "\n",
        "Calculate the loss/cost function\n",
        " \n",
        "Calculate the gradient\n",
        " \n",
        " \n",
        "Update the model parameter\n",
        " \n",
        "Calcualte the model accuracy (use the function you implemented above)\n",
        "\n",
        "\n"
      ],
      "metadata": {
        "id": "eQcQYWGslqU-"
      }
    },
    {
      "cell_type": "code",
      "source": [
        "for ep in range(epoch):\n",
        "  y_predict = sigmoid(X@weight)\n",
        "  \n",
        "  loss = -np.sum(Y * np.log(y_predict) + (1 - Y) * np.log(1 - y_predict)) / y_predict.size \n",
        "  m = y_predict.size\n",
        "  gradient = (1 / m) * X.T @ (y_predict-Y)\n",
        "  weight = weight - alpha  * gradient\n",
        "    "
      ],
      "metadata": {
        "id": "hLD09YH6l2FY"
      },
      "execution_count": null,
      "outputs": []
    },
    {
      "cell_type": "code",
      "source": [
        "# just to double check\n",
        "assert np.allclose(weight, np.array([0.12047504, -0.44156746, -0.89309501, 2.965364, 3.3427994]))"
      ],
      "metadata": {
        "id": "oVU8gCtQl-Bq"
      },
      "execution_count": null,
      "outputs": []
    },
    {
      "cell_type": "code",
      "source": [
        "# model accuracy\n",
        "accuracy(X, Y, weight)"
      ],
      "metadata": {
        "id": "KS7MbhMOmHsc"
      },
      "execution_count": null,
      "outputs": []
    }
  ]
}