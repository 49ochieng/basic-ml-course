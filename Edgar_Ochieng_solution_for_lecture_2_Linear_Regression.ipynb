{
  "nbformat": 4,
  "nbformat_minor": 0,
  "metadata": {
    "colab": {
      "provenance": []
    },
    "kernelspec": {
      "name": "python3",
      "display_name": "Python 3"
    },
    "language_info": {
      "name": "python"
    }
  },
  "cells": [
    {
      "cell_type": "markdown",
      "source": [
        "#**Learning the parameters (coefficients and intercept).**\n",
        "\n",
        "Homework: implement everywhere there is an ellipsis (...)."
      ],
      "metadata": {
        "id": "qoZ6z9QdWCYf"
      }
    },
    {
      "cell_type": "code",
      "source": [
        "from sklearn.linear_model import LinearRegression\n",
        "import numpy as np\n",
        "\n",
        "def training(X, y):\n",
        " \n",
        "    \"\"\" find the coefficients and the intercept of the linear model which fit best to the dataset \n",
        "    X: is a the input matrix, which rows are examples and columns are features\n",
        "    y: the target vector, which has length equals to the number of total examples in the dataset\n",
        "    \n",
        "    return:\n",
        "    \n",
        "    coefficients : which is a vector, lenght equals to number of features  \n",
        "    intercept: a scalar (the bias)\"\"\"\n",
        "    \n",
        "    \n",
        "    model = LinearRegression()\n",
        "    model.fit(X,y)\n",
        "    coefficients = model.coef_\n",
        "    intercept = model.intercept_\n",
        "\n",
        "    return coefficients,intercept"
      ],
      "metadata": {
        "id": "aGrU6P2_WIyX"
      },
      "execution_count": null,
      "outputs": []
    },
    {
      "cell_type": "markdown",
      "source": [
        "#**Evaluation**\n",
        "\n",
        "Similarly, fill in the blank."
      ],
      "metadata": {
        "id": "hXW4lFIhWQMN"
      }
    },
    {
      "cell_type": "code",
      "source": [
        "def prediction(X, coefficients, intercept):\n",
        "    \"\"\"compute y_predict: the price prediction of our model for your input houses \n",
        "    X: is a the input matrix(N houses) or a vector (1 houses) , with columns are features\n",
        "    coefficients and scalar: calculated above\n",
        "    \n",
        "    return:\n",
        "    y_predict: a vector or scalar (equal to number of houses)\n",
        "    \"\"\"\n",
        "    y_predict = X@coefficients + intercept\n",
        "    return y_predict"
      ],
      "metadata": {
        "id": "xQ4zckPOWa7A"
      },
      "execution_count": null,
      "outputs": []
    },
    {
      "cell_type": "markdown",
      "source": [
        "# MSE evaluation"
      ],
      "metadata": {
        "id": "xWgrGgQlWl9L"
      }
    },
    {
      "cell_type": "code",
      "source": [
        "def MSE(X, y_target, coefficients, intercept):\n",
        "    \"\"\"Calculate the mean square error of your model\n",
        "    X: is a the input matrix , which rows are examples and columns are features\n",
        "    y_target : a vector,contains the true housing prices for all houses in the dataset\n",
        "    coefficients and scalar: calculated above, used to compute y_predict\n",
        "    \n",
        "    return:\n",
        "    MSE: a scalar\"\"\"\n",
        "    \n",
        "    # compute y_predict: the price prediction of our model for all houses\n",
        "    #1 line of code\n",
        "    y_predict = ...\n",
        "    \n",
        "    # calculate MSE based on y_predict and y_target\n",
        "    assert len(y_predict) == len(y_target)\n",
        "    # 1 line of code\n",
        "    MSE = ...\n",
        "\n",
        "    return MSE"
      ],
      "metadata": {
        "id": "_fgtYXSBWv8h"
      },
      "execution_count": null,
      "outputs": []
    },
    {
      "cell_type": "markdown",
      "source": [
        "#**How good is your regressor?**"
      ],
      "metadata": {
        "id": "T1teF6bsXAsE"
      }
    },
    {
      "cell_type": "code",
      "source": [
        "## ploting to see our model\n",
        "def visualize_results(y_predict, y_target):\n",
        "    \"\"\" this function plot your y_predict and y_predict to see how closed they are\"\"\"\n",
        "    \n",
        "    plt.figure(figsize=(5, 4))\n",
        "    plt.scatter(y_target, y_predict)\n",
        "    plt.plot([0, 50], [0, 50], '--k')\n",
        "    plt.axis('tight')\n",
        "    plt.xlabel('True price ($1000s)')\n",
        "    plt.ylabel('Predicted price ($1000s)')\n",
        "    plt.tight_layout()"
      ],
      "metadata": {
        "id": "wCoToqQ3XE8I"
      },
      "execution_count": null,
      "outputs": []
    }
  ]
}